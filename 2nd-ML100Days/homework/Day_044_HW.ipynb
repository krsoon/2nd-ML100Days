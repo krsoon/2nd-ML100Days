{
 "cells": [
  {
   "cell_type": "markdown",
   "metadata": {},
   "source": [
    "## [作業重點]\n",
    "確保你了解隨機森林模型中每個超參數的意義，並觀察調整超參數對結果的影響"
   ]
  },
  {
   "cell_type": "markdown",
   "metadata": {},
   "source": [
    "## 作業\n",
    "\n",
    "1. 試著調整 RandomForestClassifier(...) 中的參數，並觀察是否會改變結果？\n",
    "2. 改用其他資料集 (boston, wine)，並與回歸模型與決策樹的結果進行比較"
   ]
  },
  {
   "cell_type": "code",
   "execution_count": 18,
   "metadata": {},
   "outputs": [],
   "source": [
    "from sklearn import datasets, metrics\n",
    "\n",
    "# 如果是分類問題，請使用 DecisionTreeClassifier，若為回歸問題，請使用 DecisionTreeRegressor\n",
    "from sklearn.tree import DecisionTreeClassifier\n",
    "from sklearn.model_selection import train_test_split\n",
    "from sklearn.ensemble import RandomForestClassifier"
   ]
  },
  {
   "cell_type": "code",
   "execution_count": 19,
   "metadata": {},
   "outputs": [
    {
     "name": "stdout",
     "output_type": "stream",
     "text": [
      "Feature importance:  [0.         0.         0.         0.01289745 0.         0.\n",
      " 0.50139193 0.00633387 0.         0.         0.10031315 0.\n",
      " 0.37906361]\n"
     ]
    }
   ],
   "source": [
    "data = datasets.load_wine()\n",
    "X = data.data\n",
    "[X_train,X_test,Y_train,Y_test] = train_test_split(X,data.target,test_size = 0.2)\n",
    "\n",
    "TreeReg = DecisionTreeClassifier(\n",
    "    criterion = 'entropy',\n",
    "    max_depth = 5,\n",
    "    min_samples_split = 40,\n",
    "    min_samples_leaf=20\n",
    ")\n",
    "TreeReg.fit(X_train,Y_train)\n",
    "print(\"Feature importance: \",TreeReg.feature_importances_)"
   ]
  },
  {
   "cell_type": "code",
   "execution_count": 20,
   "metadata": {},
   "outputs": [
    {
     "name": "stdout",
     "output_type": "stream",
     "text": [
      "Accuracy: 0.89\n"
     ]
    }
   ],
   "source": [
    "y_pred = TreeReg.predict(X_test)\n",
    "ACC = metrics.accuracy_score(Y_test,y_pred)\n",
    "print(\"Accuracy: %0.2f\" %ACC)"
   ]
  },
  {
   "cell_type": "code",
   "execution_count": 24,
   "metadata": {},
   "outputs": [
    {
     "name": "stdout",
     "output_type": "stream",
     "text": [
      "Feature importance:  [0.06636003 0.         0.         0.03185365 0.0083658  0.10757801\n",
      " 0.25413829 0.         0.         0.10859972 0.05469242 0.12531759\n",
      " 0.2430945 ]\n"
     ]
    }
   ],
   "source": [
    "RFClassifier = RandomForestClassifier(\n",
    "    n_estimators = 15,\n",
    "    criterion = \"entropy\",\n",
    "    max_depth = 5,\n",
    "    min_samples_split = 40,\n",
    "    min_samples_leaf=20\n",
    ")\n",
    "RFClassifier.fit(X_train,Y_train)\n",
    "print(\"Feature importance: \",RFClassifier.feature_importances_)"
   ]
  },
  {
   "cell_type": "code",
   "execution_count": 25,
   "metadata": {},
   "outputs": [
    {
     "name": "stdout",
     "output_type": "stream",
     "text": [
      "Accuracy: 0.97\n"
     ]
    }
   ],
   "source": [
    "y_pred = RFClassifier.predict(X_test)\n",
    "ACC = metrics.accuracy_score(Y_test,y_pred)\n",
    "print(\"Accuracy: %0.2f\" %ACC)"
   ]
  },
  {
   "cell_type": "markdown",
   "metadata": {},
   "source": [
    "用同樣的超參數，隨機森林的結果比決策樹好上非常多，從89%的準確率成長到97%。"
   ]
  },
  {
   "cell_type": "code",
   "execution_count": null,
   "metadata": {},
   "outputs": [],
   "source": []
  }
 ],
 "metadata": {
  "kernelspec": {
   "display_name": "Python 3",
   "language": "python",
   "name": "python3"
  },
  "language_info": {
   "codemirror_mode": {
    "name": "ipython",
    "version": 3
   },
   "file_extension": ".py",
   "mimetype": "text/x-python",
   "name": "python",
   "nbconvert_exporter": "python",
   "pygments_lexer": "ipython3",
   "version": "3.7.1"
  }
 },
 "nbformat": 4,
 "nbformat_minor": 2
}
