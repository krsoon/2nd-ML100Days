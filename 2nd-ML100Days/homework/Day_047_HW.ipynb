{
 "cells": [
  {
   "cell_type": "markdown",
   "metadata": {},
   "source": [
    "## [作業重點]\n",
    "了解如何使用 Sklearn 中的 hyper-parameter search 找出最佳的超參數"
   ]
  },
  {
   "cell_type": "markdown",
   "metadata": {},
   "source": [
    "### 作業\n",
    "請使用不同的資料集，並使用 hyper-parameter search 的方式，看能不能找出最佳的超參數組合"
   ]
  },
  {
   "cell_type": "code",
   "execution_count": 7,
   "metadata": {},
   "outputs": [],
   "source": [
    "from sklearn import datasets, metrics\n",
    "from sklearn.model_selection import train_test_split, KFold, GridSearchCV\n",
    "from sklearn.ensemble import GradientBoostingClassifier"
   ]
  },
  {
   "cell_type": "code",
   "execution_count": 15,
   "metadata": {},
   "outputs": [],
   "source": [
    "digits = datasets.load_digits()\n",
    "X = digits.images.reshape(digits.images.shape[0],digits.images.shape[1]*digits.images.shape[2])\n",
    "[X_train,X_test,Y_train,Y_test] = train_test_split(X,digits.target,test_size = 0.2)\n",
    "\n",
    "min_samples_leaf = [5,10,20]\n",
    "max_depth = [3,5,7]\n",
    "n_estimators = [100,200,300]\n",
    "param_grid = dict(min_samples_leaf = min_samples_leaf, max_depth=max_depth, n_estimators = n_estimators)\n",
    "\n",
    "GBCl = GradientBoostingClassifier(\n",
    "    loss='deviance',\n",
    ")"
   ]
  },
  {
   "cell_type": "code",
   "execution_count": 16,
   "metadata": {},
   "outputs": [
    {
     "name": "stderr",
     "output_type": "stream",
     "text": [
      "C:\\Users\\krsoon\\Anaconda3\\lib\\site-packages\\sklearn\\model_selection\\_split.py:2053: FutureWarning: You should specify a value for 'cv' instead of relying on the default value. The default value will change from 3 to 5 in version 0.22.\n",
      "  warnings.warn(CV_WARNING, FutureWarning)\n",
      "[Parallel(n_jobs=-1)]: Using backend LokyBackend with 4 concurrent workers.\n"
     ]
    },
    {
     "name": "stdout",
     "output_type": "stream",
     "text": [
      "Fitting 3 folds for each of 27 candidates, totalling 81 fits\n"
     ]
    },
    {
     "name": "stderr",
     "output_type": "stream",
     "text": [
      "[Parallel(n_jobs=-1)]: Done  42 tasks      | elapsed:   32.9s\n",
      "[Parallel(n_jobs=-1)]: Done  81 out of  81 | elapsed:  1.2min finished\n"
     ]
    }
   ],
   "source": [
    "grid_search= GridSearchCV(GBCl, param_grid, scoring=\"accuracy\", n_jobs=-1, verbose=1)\n",
    "grid_result = grid_search.fit(X_train,Y_train)"
   ]
  },
  {
   "cell_type": "code",
   "execution_count": 17,
   "metadata": {},
   "outputs": [
    {
     "name": "stdout",
     "output_type": "stream",
     "text": [
      "Best Result, Accuracy: 0.964, parameters:{'max_depth': 5, 'min_samples_leaf': 20, 'n_estimators': 100}\n"
     ]
    }
   ],
   "source": [
    "print(\"Best Result, Accuracy: %.3f, parameters:%s\" %(grid_result.best_score_,grid_result.best_params_))"
   ]
  },
  {
   "cell_type": "code",
   "execution_count": 19,
   "metadata": {},
   "outputs": [
    {
     "name": "stdout",
     "output_type": "stream",
     "text": [
      "Test accuracy: 0.967\n"
     ]
    }
   ],
   "source": [
    "GBCl_best_param = GradientBoostingClassifier(\n",
    "    loss='deviance',\n",
    "    min_samples_leaf = grid_result.best_params_['min_samples_leaf'],\n",
    "    max_depth = grid_result.best_params_['max_depth'],\n",
    "    n_estimators = grid_result.best_params_['n_estimators']\n",
    ")\n",
    "GBCl_best_param.fit(X_train,Y_train)\n",
    "Y_pred = GBCl_best_param.predict(X_test)\n",
    "print(\"Test accuracy: %.3f\" %metrics.accuracy_score(Y_test,Y_pred))"
   ]
  },
  {
   "cell_type": "code",
   "execution_count": null,
   "metadata": {},
   "outputs": [],
   "source": []
  }
 ],
 "metadata": {
  "kernelspec": {
   "display_name": "Python 3",
   "language": "python",
   "name": "python3"
  },
  "language_info": {
   "codemirror_mode": {
    "name": "ipython",
    "version": 3
   },
   "file_extension": ".py",
   "mimetype": "text/x-python",
   "name": "python",
   "nbconvert_exporter": "python",
   "pygments_lexer": "ipython3",
   "version": "3.7.1"
  }
 },
 "nbformat": 4,
 "nbformat_minor": 2
}
