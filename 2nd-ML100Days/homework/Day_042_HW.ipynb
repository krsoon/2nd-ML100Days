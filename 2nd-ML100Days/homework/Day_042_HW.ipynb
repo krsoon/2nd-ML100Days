{
 "cells": [
  {
   "cell_type": "markdown",
   "metadata": {},
   "source": [
    "## [作業重點]\n",
    "目前你應該已經要很清楚資料集中，資料的型態是什麼樣子囉！包含特徵 (features) 與標籤 (labels)。因此要記得未來不管什麼專案，必須要把資料清理成相同的格式，才能送進模型訓練。\n",
    "今天的作業開始踏入決策樹這個非常重要的模型，請務必確保你理解模型中每個超參數的意思，並試著調整看看，對最終預測結果的影響為何"
   ]
  },
  {
   "cell_type": "markdown",
   "metadata": {},
   "source": [
    "## 作業\n",
    "\n",
    "1. 試著調整 DecisionTreeClassifier(...) 中的參數，並觀察是否會改變結果？\n",
    "2. 改用其他資料集 (boston, wine)，並與回歸模型的結果進行比較"
   ]
  },
  {
   "cell_type": "code",
   "execution_count": 1,
   "metadata": {},
   "outputs": [],
   "source": [
    "from sklearn import datasets, metrics\n",
    "\n",
    "# 如果是分類問題，請使用 DecisionTreeClassifier，若為回歸問題，請使用 DecisionTreeRegressor\n",
    "from sklearn.tree import DecisionTreeRegressor\n",
    "from sklearn.model_selection import train_test_split"
   ]
  },
  {
   "cell_type": "code",
   "execution_count": 11,
   "metadata": {},
   "outputs": [
    {
     "name": "stdout",
     "output_type": "stream",
     "text": [
      "Feature importance:  [0.00574495 0.         0.1861298  0.12842041 0.01763172 0.\n",
      " 0.01579209 0.03348763 0.57119969 0.04159371]\n"
     ]
    }
   ],
   "source": [
    "data = datasets.load_diabetes()\n",
    "\n",
    "X = data.data\n",
    "[X_train,X_test,Y_train,Y_test] = train_test_split(X,data.target,test_size = 0.2)\n",
    "\n",
    "TreeReg = DecisionTreeRegressor(\n",
    "    criterion = 'mse',\n",
    "    max_depth = 5,\n",
    "    min_samples_split = 40,\n",
    "    min_samples_leaf=20\n",
    ")\n",
    "TreeReg.fit(X_train,Y_train)\n",
    "print(\"Feature importance: \",TreeReg.feature_importances_)"
   ]
  },
  {
   "cell_type": "code",
   "execution_count": 13,
   "metadata": {},
   "outputs": [
    {
     "name": "stdout",
     "output_type": "stream",
     "text": [
      "Mean Squared Error: 3371.89\n"
     ]
    }
   ],
   "source": [
    "y_pred = TreeReg.predict(X_test)\n",
    "MSE = metrics.mean_squared_error(Y_test,y_pred)\n",
    "print(\"Mean Squared Error: %0.2f\" %MSE)"
   ]
  }
 ],
 "metadata": {
  "kernelspec": {
   "display_name": "Python 3",
   "language": "python",
   "name": "python3"
  },
  "language_info": {
   "codemirror_mode": {
    "name": "ipython",
    "version": 3
   },
   "file_extension": ".py",
   "mimetype": "text/x-python",
   "name": "python",
   "nbconvert_exporter": "python",
   "pygments_lexer": "ipython3",
   "version": "3.7.1"
  }
 },
 "nbformat": 4,
 "nbformat_minor": 2
}
