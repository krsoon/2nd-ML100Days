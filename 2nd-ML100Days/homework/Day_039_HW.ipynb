{
 "cells": [
  {
   "cell_type": "markdown",
   "metadata": {},
   "source": [
    "## [作業重點]\n",
    "清楚了解 L1, L2 的意義與差異為何，並了解 LASSO 與 Ridge 之間的差異與使用情境"
   ]
  },
  {
   "cell_type": "markdown",
   "metadata": {},
   "source": [
    "## 作業"
   ]
  },
  {
   "cell_type": "markdown",
   "metadata": {},
   "source": [
    "請閱讀相關文獻，並回答下列問題\n",
    "\n",
    "[脊回歸 (Ridge Regression)](https://blog.csdn.net/daunxx/article/details/51578787)\n",
    "[Linear, Ridge, Lasso Regression 本質區別](https://www.zhihu.com/question/38121173)\n",
    "\n",
    "1. LASSO 回歸可以被用來作為 Feature selection 的工具，請了解 LASSO 模型為什麼可用來作 Feature selection\n",
    "2. 當自變數 (X) 存在高度共線性時，Ridge Regression 可以處理這樣的問題嗎?\n"
   ]
  },
  {
   "cell_type": "markdown",
   "metadata": {},
   "source": [
    "A1:<br>\n",
    "以loss function是MSE為例，在自變數X是固定的情況下，回歸中X各項的係數所展開的空間可以依照相等的MSE值畫出一個個橢球，<br>\n",
    "就像一般機械學習中不同的參數形成的Loss function的曲面，依照不同的loss我們可以畫出一條條在參數空間的等高線圖一樣。<br>\n",
    "而LASSO使用的L1-norm會使的最佳解在橢球上的切線方向有所限制，除非這個最佳解剛好在某些參數為0的點上，因為此時並沒有<br>\n",
    "切線方向的限制。(因為若非這兩種情況下，這代表在同個L1-norm的情形下，我們有Loss更小的解)因此LASSO更傾向於將某些參數<br>\n",
    "設為0，也就是投影片提到的稀疏性。<br>\n",
    "A2:<br>\n",
    "可以，因為加入了L2-norm因此可以解決有高度共線性的變量的係數大幅度變化的問題。"
   ]
  }
 ],
 "metadata": {
  "kernelspec": {
   "display_name": "Python 3",
   "language": "python",
   "name": "python3"
  },
  "language_info": {
   "codemirror_mode": {
    "name": "ipython",
    "version": 3
   },
   "file_extension": ".py",
   "mimetype": "text/x-python",
   "name": "python",
   "nbconvert_exporter": "python",
   "pygments_lexer": "ipython3",
   "version": "3.7.1"
  }
 },
 "nbformat": 4,
 "nbformat_minor": 2
}
