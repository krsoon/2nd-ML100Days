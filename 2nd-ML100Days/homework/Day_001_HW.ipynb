{
 "cells": [
  {
   "cell_type": "markdown",
   "metadata": {},
   "source": [
    "# HW1:\n",
    "## 所選競賽:Digit Recognizer Competition\n",
    "\n",
    "<font color=red>Q1:你選的這組資料為何重要</font><br>\n",
    "<font color=blue>A1:</font><br>\n",
    "MNIST資料集是非常廣為人知的手寫阿拉伯數字資料集，是許多人剛接觸影像辨識的練習資料集。<br>\n",
    "透過參與這項競賽，可以練習到影像辨識、機械學習還有深度學習。稍微可惜的是較無資料前處理的練習。<br><br>\n",
    "\n",
    "<font color=red>Q2:資料從何而來</font><br>\n",
    "<font color=blue>A2:</font><br>\n",
    "MNIST dataset在1999年釋出，是紀錄總共7萬筆手寫阿拉伯數字0-9的圖像。<br><br>\n",
    "\n",
    "<font color=red>Q3:蒐集而來的資料型態為何</font><br>\n",
    "<font color=blue>A3:</font><br>\n",
    "MNIST dataset的每一筆圖像都是一個長X寬為28X28 共784pixels的灰階影像，每個pixel的數值在0-255間，<br>\n",
    "數字代表著明亮與黑暗程度，越大代表越暗。而Kaggle上提供的training set共有785個columns，第一個column<br>\n",
    "是這張圖所代表的阿拉伯數字的label，而剩餘的784columns則代表著784個pixels的灰階值，順序為由左而右在由上而下，<br>\n",
    "每個row代表著每張圖片。而testing set則是只有784個columns，沒有第一個label column。<br><br>\n",
    "\n",
    "<font color=red>Q4:這組資料想解決的問題如何評估</font><br>\n",
    "<font color=blue>A4:</font><br>\n",
    "這組資料想解決的問題是建立一個手寫數字圖片的分類方法，將他們正確的判斷為圖片上的阿拉伯數字。<br>\n",
    "而評估的方法是演算法的分類結果是否正確，指標為正確分類的比例(或錯誤分類的比例)。<br>\n",
    "\n",
    "\n",
    "# HW2:\n",
    "## 想像你經營一個自由載客車隊，你希望能透過數據分析以提升業績，請你思考並描述你如何規劃整體的分析/解決方案：\n",
    "\n",
    "<font color=red>Q1:核心問題為何</font><br>\n",
    "<font color=blue>A1:</font><br>\n",
    "無論車隊是以抽成的方式，或是繳月費年費的方式經營，核心問題會在於如何提升司機的收入，並且吸引更多人加入。<br>\n",
    "而在更深入，可能會是如何建議司機的配置輪班，避免過度競爭與衝突。<br><br>\n",
    "\n",
    "<font color=red>Q2:資料從何而來</font><br>\n",
    "<font color=blue>A2:</font><br>\n",
    "為了增加私機的收入，可以分析例如專攻長程載客或是短程載客的收入較好、尖峰時段、客源集中地。<br>\n",
    "這些資料需要司機配合記錄，記錄每次載客地點、送客地點、時間、路程、車資或是小費金額。<br><br>\n",
    "\n",
    "<font color=red>Q3:蒐集而來的資料型態為何</font><br>\n",
    "<font color=blue>A3:</font><br>\n",
    "上述的記錄資料有地址，可以以類別型資料作為分析，而時間除了當天的時間可以視為連續型資料，月份可以視為類別型。<br>\n",
    "而車資和小費就是連續型的目標變數。<br><br>\n",
    "\n",
    "<font color=red>Q4你要回答的問題，其如何評估</font><br>\n",
    "<font color=blue>A4:</font><br>\n",
    "不同的載客策略，例如夜間載客或日間，我們可以利用檢定方式驗證假設。除此之外也能觀察在策略實施之後，司機的收入狀況。<br>\n",
    "\n",
    "# HW3:\n",
    "## 請寫一個函式用來計算 Mean Square Error"
   ]
  },
  {
   "cell_type": "code",
   "execution_count": 1,
   "metadata": {},
   "outputs": [
    {
     "name": "stdout",
     "output_type": "stream",
     "text": [
      "The Mean squared error is 253.801\n"
     ]
    }
   ],
   "source": [
    "import numpy as np\n",
    "w = 3\n",
    "b = 0.5\n",
    "\n",
    "x_lin = np.linspace(0, 100, 101)\n",
    "\n",
    "y = (x_lin + np.random.randn(101) * 5) * w + b\n",
    "y_hat = x_lin * w + b\n",
    "\n",
    "def mean_squared_error(y, yp):\n",
    "    \"\"\"\n",
    "    計算 MSE\n",
    "    Args:\n",
    "        - y: 實際值\n",
    "        - yp: 預測值\n",
    "    Return:\n",
    "        - mse: MSE\n",
    "    \"\"\"\n",
    "    mse = sum(np.square(y - yp)) / len(y)\n",
    "    return mse\n",
    "\n",
    "MSE = mean_squared_error(y, y_hat)\n",
    "print(\"The Mean squared error is %.3f\" % (MSE))"
   ]
  }
 ],
 "metadata": {
  "kernelspec": {
   "display_name": "Python 3",
   "language": "python",
   "name": "python3"
  },
  "language_info": {
   "codemirror_mode": {
    "name": "ipython",
    "version": 3
   },
   "file_extension": ".py",
   "mimetype": "text/x-python",
   "name": "python",
   "nbconvert_exporter": "python",
   "pygments_lexer": "ipython3",
   "version": "3.7.1"
  }
 },
 "nbformat": 4,
 "nbformat_minor": 2
}
