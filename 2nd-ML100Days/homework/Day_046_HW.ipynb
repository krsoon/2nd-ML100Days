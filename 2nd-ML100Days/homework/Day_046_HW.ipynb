{
 "cells": [
  {
   "cell_type": "markdown",
   "metadata": {},
   "source": [
    "### 作業\n",
    "目前已經學過許多的模型，相信大家對整體流程應該比較掌握了，這次作業請改用**手寫辨識資料集**，步驟流程都是一樣的，請試著自己撰寫程式碼來完成所有步驟"
   ]
  },
  {
   "cell_type": "code",
   "execution_count": 6,
   "metadata": {},
   "outputs": [],
   "source": [
    "from sklearn import datasets, metrics\n",
    "from sklearn.model_selection import train_test_split\n",
    "from sklearn.ensemble import GradientBoostingClassifier\n",
    "digits = datasets.load_digits()"
   ]
  },
  {
   "cell_type": "code",
   "execution_count": 36,
   "metadata": {},
   "outputs": [
    {
     "name": "stdout",
     "output_type": "stream",
     "text": [
      "Feature importance:  [0.00000000e+00 1.80492151e-03 6.22504304e-03 5.24065946e-03\n",
      " 3.03064664e-03 5.87451158e-02 5.50959592e-03 3.02985042e-04\n",
      " 0.00000000e+00 5.34760528e-03 1.35708350e-02 2.19944647e-03\n",
      " 9.03010702e-03 1.34413344e-02 2.89723417e-03 2.96362471e-04\n",
      " 0.00000000e+00 3.23601116e-03 1.78140660e-02 4.57311928e-02\n",
      " 3.01304600e-02 8.65799324e-02 5.51657456e-03 0.00000000e+00\n",
      " 0.00000000e+00 3.08253180e-03 3.26172484e-02 2.19772465e-02\n",
      " 1.86778293e-02 2.48080973e-02 1.18706271e-02 0.00000000e+00\n",
      " 0.00000000e+00 6.79941928e-02 3.68629078e-03 2.34426262e-03\n",
      " 7.29817090e-02 1.48427677e-02 1.69062557e-02 0.00000000e+00\n",
      " 0.00000000e+00 7.71849766e-03 8.37012976e-02 8.31195669e-02\n",
      " 9.80219170e-03 2.46400931e-02 1.43646565e-02 0.00000000e+00\n",
      " 0.00000000e+00 3.66248496e-04 6.34745973e-03 1.42396210e-02\n",
      " 8.06877555e-03 6.89222398e-03 2.83062307e-02 3.28554987e-06\n",
      " 0.00000000e+00 2.04922058e-05 1.47186022e-02 2.32597480e-03\n",
      " 5.00540081e-02 3.05545501e-03 2.03658540e-02 1.34502772e-02]\n"
     ]
    }
   ],
   "source": [
    "X = digits.images.reshape(digits.images.shape[0],digits.images.shape[1]*digits.images.shape[2])\n",
    "[X_train,X_test,Y_train,Y_test] = train_test_split(X,digits.target,test_size = 0.2)\n",
    "GBoost = GradientBoostingClassifier(\n",
    "    loss='deviance',\n",
    "    learning_rate=0.1,\n",
    "    min_samples_split=10,\n",
    "    min_samples_leaf=5,\n",
    "    max_depth=4,\n",
    "    validation_fraction=0.1,\n",
    "    n_iter_no_change=3,\n",
    "    n_estimators=100\n",
    ")\n",
    "GBoost.fit(X_train,Y_train)\n",
    "print(\"Feature importance: \",GBoost.feature_importances_)"
   ]
  },
  {
   "cell_type": "code",
   "execution_count": 37,
   "metadata": {},
   "outputs": [
    {
     "name": "stdout",
     "output_type": "stream",
     "text": [
      "Accuracy: 0.97\n"
     ]
    }
   ],
   "source": [
    "y_pred = GBoost.predict(X_test)\n",
    "ACC = metrics.accuracy_score(Y_test,y_pred)\n",
    "print(\"Accuracy: %0.2f\" %ACC)"
   ]
  },
  {
   "cell_type": "code",
   "execution_count": null,
   "metadata": {},
   "outputs": [],
   "source": []
  }
 ],
 "metadata": {
  "kernelspec": {
   "display_name": "Python 3",
   "language": "python",
   "name": "python3"
  },
  "language_info": {
   "codemirror_mode": {
    "name": "ipython",
    "version": 3
   },
   "file_extension": ".py",
   "mimetype": "text/x-python",
   "name": "python",
   "nbconvert_exporter": "python",
   "pygments_lexer": "ipython3",
   "version": "3.7.1"
  }
 },
 "nbformat": 4,
 "nbformat_minor": 2
}
